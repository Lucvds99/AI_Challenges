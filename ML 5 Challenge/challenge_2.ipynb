{
 "cells": [
  {
   "cell_type": "markdown",
   "id": "7f5a116c",
   "metadata": {},
   "source": [
    "# ML5-Challenge2: YouTube/Podcast Transcription"
   ]
  },
  {
   "cell_type": "code",
   "execution_count": 17,
   "id": "77c439c5",
   "metadata": {},
   "outputs": [],
   "source": [
    "import os\n",
    "import subprocess\n",
    "import whisper\n",
    "import yt_dlp\n",
    "from datetime import datetime"
   ]
  },
  {
   "cell_type": "code",
   "execution_count": 18,
   "id": "0cd886f4",
   "metadata": {},
   "outputs": [],
   "source": [
    "\n",
    "# Set up directories\n",
    "DOWNLOAD_DIR = os.path.join(os.getcwd(), \"media_downloads\")\n",
    "os.makedirs(DOWNLOAD_DIR, exist_ok=True)\n",
    "\n",
    "# Function to download YouTube audio\n",
    "def download_youtube_audio(video_url, download_dir):\n",
    "    ydl_opts = {\n",
    "        'format': 'bestaudio/best',\n",
    "        'postprocessors': [{\n",
    "            'key': 'FFmpegExtractAudio',\n",
    "            'preferredcodec': 'mp3',\n",
    "            'preferredquality': '192',\n",
    "        }],\n",
    "        'outtmpl': os.path.join(download_dir, '%(id)s.%(ext)s'),\n",
    "    }\n",
    "\n",
    "    with yt_dlp.YoutubeDL(ydl_opts) as ydl:\n",
    "        info_dict = ydl.extract_info(video_url, download=True)\n",
    "        audio_path = os.path.join(download_dir, f\"{info_dict['id']}.mp3\")\n",
    "        return audio_path\n",
    "\n",
    "# Transcribe using Whisper\n",
    "def transcribe_audio(audio_path, model_name=\"tiny\"):\n",
    "    model = whisper.load_model(model_name)\n",
    "    start_time = datetime.utcnow()\n",
    "    \n",
    "    result = model.transcribe(audio_path)\n",
    "    end_time = datetime.utcnow()\n",
    "    \n",
    "    transcription_time = (end_time - start_time).total_seconds()\n",
    "    return result['text'], transcription_time\n",
    "\n",
    "# Convert transcription to Markdown\n",
    "def transcription_to_markdown(transcription, audio_path, transcription_time):\n",
    "    audio_length = subprocess.run(\n",
    "        ['ffmpeg', '-i', audio_path, '-f', 'null', '-'],\n",
    "        stderr=subprocess.PIPE,\n",
    "        text=True\n",
    "    ).stderr.split()\n",
    "    \n",
    "    speed_ratio = round(len(transcription.split()) / transcription_time, 2)\n",
    "    markdown = f\"Transcribed by Whisper at {speed_ratio}x speed.\\n\\n## Transcript\\n\\n{transcription}\"\n",
    "    return markdown\n"
   ]
  },
  {
   "cell_type": "code",
   "execution_count": 19,
   "id": "b4855cce",
   "metadata": {},
   "outputs": [
    {
     "name": "stdout",
     "output_type": "stream",
     "text": [
      "Downloading YouTube audio...\n",
      "[youtube] Extracting URL: https://www.youtube.com/watch?v=eekrsC1Do2E\n",
      "[youtube] eekrsC1Do2E: Downloading webpage\n",
      "[youtube] eekrsC1Do2E: Downloading ios player API JSON\n",
      "[youtube] eekrsC1Do2E: Downloading mweb player API JSON\n",
      "[youtube] eekrsC1Do2E: Downloading m3u8 information\n",
      "[info] eekrsC1Do2E: Downloading 1 format(s): 251\n",
      "[download] Destination: e:\\school\\Private\\AI_Challenges\\ML 5 Challenge\\media_downloads\\eekrsC1Do2E.webm\n",
      "[download] 100% of  458.46KiB in 00:00:00 at 2.81MiB/s   \n",
      "[ExtractAudio] Destination: e:\\school\\Private\\AI_Challenges\\ML 5 Challenge\\media_downloads\\eekrsC1Do2E.mp3\n",
      "Deleting original file e:\\school\\Private\\AI_Challenges\\ML 5 Challenge\\media_downloads\\eekrsC1Do2E.webm (pass -k to keep)\n",
      "Audio downloaded: e:\\school\\Private\\AI_Challenges\\ML 5 Challenge\\media_downloads\\eekrsC1Do2E.mp3\n",
      "Transcribing audio...\n"
     ]
    },
    {
     "name": "stderr",
     "output_type": "stream",
     "text": [
      "c:\\Users\\lucvd\\anaconda3\\Lib\\site-packages\\whisper\\__init__.py:150: FutureWarning: You are using `torch.load` with `weights_only=False` (the current default value), which uses the default pickle module implicitly. It is possible to construct malicious pickle data which will execute arbitrary code during unpickling (See https://github.com/pytorch/pytorch/blob/main/SECURITY.md#untrusted-models for more details). In a future release, the default value for `weights_only` will be flipped to `True`. This limits the functions that could be executed during unpickling. Arbitrary objects will no longer be allowed to be loaded via this mode unless they are explicitly allowlisted by the user via `torch.serialization.add_safe_globals`. We recommend you start setting `weights_only=True` for any use case where you don't have full control of the loaded file. Please open an issue on GitHub for any issues related to this experimental feature.\n",
      "  checkpoint = torch.load(fp, map_location=device)\n",
      "C:\\Users\\lucvd\\AppData\\Local\\Temp\\ipykernel_2064\\3297622852.py:25: DeprecationWarning: datetime.datetime.utcnow() is deprecated and scheduled for removal in a future version. Use timezone-aware objects to represent datetimes in UTC: datetime.datetime.now(datetime.UTC).\n",
      "  start_time = datetime.utcnow()\n",
      "c:\\Users\\lucvd\\anaconda3\\Lib\\site-packages\\whisper\\transcribe.py:126: UserWarning: FP16 is not supported on CPU; using FP32 instead\n",
      "  warnings.warn(\"FP16 is not supported on CPU; using FP32 instead\")\n"
     ]
    },
    {
     "name": "stdout",
     "output_type": "stream",
     "text": [
      "Transcription complete.\n",
      "Generating Markdown...\n",
      "Transcribed by Whisper at 19.17x speed.\n",
      "\n",
      "## Transcript\n",
      "\n",
      " I've been answering my email all the goddamn day. I've been answering my email because my work gets done that way. Can't you feel the fingers aching? Type into early in the morning. Can't you see the letters blurring? It's just that I had four porn.\n"
     ]
    },
    {
     "name": "stderr",
     "output_type": "stream",
     "text": [
      "C:\\Users\\lucvd\\AppData\\Local\\Temp\\ipykernel_2064\\3297622852.py:28: DeprecationWarning: datetime.datetime.utcnow() is deprecated and scheduled for removal in a future version. Use timezone-aware objects to represent datetimes in UTC: datetime.datetime.now(datetime.UTC).\n",
      "  end_time = datetime.utcnow()\n"
     ]
    }
   ],
   "source": [
    "\n",
    "# Example usage\n",
    "if __name__ == \"__main__\":\n",
    "    # Step 1: Download audio\n",
    "    youtube_url = \"https://www.youtube.com/watch?v=eekrsC1Do2E\"  # Replace with your URL\n",
    "    print(\"Downloading YouTube audio...\")\n",
    "    audio_file = download_youtube_audio(youtube_url, DOWNLOAD_DIR)\n",
    "    print(f\"Audio downloaded: {audio_file}\")\n",
    "    \n",
    "    # Step 2: Transcribe audio\n",
    "    print(\"Transcribing audio...\")\n",
    "    transcription, processing_time = transcribe_audio(audio_file)\n",
    "    print(\"Transcription complete.\")\n",
    "    \n",
    "    # Step 3: Generate Markdown\n",
    "    print(\"Generating Markdown...\")\n",
    "    markdown_output = transcription_to_markdown(transcription, audio_file, processing_time)\n",
    "    print(markdown_output)"
   ]
  }
 ],
 "metadata": {
  "kernelspec": {
   "display_name": "base",
   "language": "python",
   "name": "python3"
  },
  "language_info": {
   "codemirror_mode": {
    "name": "ipython",
    "version": 3
   },
   "file_extension": ".py",
   "mimetype": "text/x-python",
   "name": "python",
   "nbconvert_exporter": "python",
   "pygments_lexer": "ipython3",
   "version": "3.12.4"
  }
 },
 "nbformat": 4,
 "nbformat_minor": 5
}
