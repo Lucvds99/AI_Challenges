{
 "cells": [
  {
   "cell_type": "markdown",
   "metadata": {},
   "source": [
    "### Yolov5s model\n",
    "\n",
    "Dit model konden we draaien via ons AAI-lab, hier hebben wij onze dataset ook op aangepast. Yolov5 verwacht een dataset wat bestaat uit images en labels. De labels zijn textbestanden met daarin informatie over de objecten in de foto\n",
    "\n",
    "om het model te trainen hebben we de volgende regel code in de terminal gezet"
   ]
  },
  {
   "cell_type": "code",
   "execution_count": null,
   "metadata": {},
   "outputs": [],
   "source": [
    "!python train.py --img 640 --epochs 50 --data datasets/laptops_and_mugs/laptops_and_mugs.yaml --weights yolov5s.pt"
   ]
  },
  {
   "cell_type": "markdown",
   "metadata": {},
   "source": [
    "Dit geeft de resolutie van het plaatje aan, het aantal epochs en de dataset waarop hij gaat trainen. Als weights hebben wij de weights van het yolov5s model gebruikt wat al bestaat maar deze zijn natuurlijk wel verder geupdate"
   ]
  },
  {
   "cell_type": "markdown",
   "metadata": {},
   "source": [
    "### Results\n",
    "\n",
    "<img src=\"results.png\"/>\n",
    "\n"
   ]
  },
  {
   "cell_type": "markdown",
   "metadata": {},
   "source": [
    "### Testing\n",
    "\n",
    "om het model te testen hebben we 2 plaatjes gezocht op het internet die het model nog nooit had gezien. Met de volgende regel in de terminal hebben we het model kunnen detecten.\n",
    "\n",
    "*python detect.py --weights runs/train/eruns/train/yolov5s-50epochs-unseen-val/weights/best.pt --source mug.png*\n",
    "\n",
    "Dit geeft aan dat hij de weights moet pakken van een eerder getraind model moet pakken die opgeslagen staan op die positie, en het plaatje wat hij moet vinden staat bij source\n",
    "\n",
    "De volgende twee afbeeldingen zijn de resultaten van deze detects\n",
    "\n",
    "<img src=\"mug.png\" alt=\"Mug\" width=\"400\"/> <img src=\"laptop.jpg\" alt=\"Laptop\" width=\"400\"/>\n"
   ]
  },
  {
   "cell_type": "markdown",
   "metadata": {},
   "source": []
  }
 ],
 "metadata": {
  "kernelspec": {
   "display_name": "tf",
   "language": "python",
   "name": "python3"
  },
  "language_info": {
   "name": "python",
   "version": "3.9.13"
  }
 },
 "nbformat": 4,
 "nbformat_minor": 2
}
