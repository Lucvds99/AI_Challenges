{
 "cells": [
  {
   "metadata": {},
   "cell_type": "markdown",
   "source": [
    "# Hyperparameter tuning\n",
    "Op de AAI-Labs `python train.py --verbose 1 --algo ppo --env snake-v1 --env-kwargs \"grid_size:[6, 6]\" -n 50000 -optimize --n-trials 50 --n-jobs 2 --sampler random --pruner median`\n",
    "En als resultaat gekregen\n",
    "```snake-v1:\n",
    "    normalize: \"{'norm_obs': False, 'norm_reward': True}\"\n",
    "    n_envs: 4\n",
    "    policy: 'MlpPolicy'\n",
    "    n_timesteps: !!float 1e6\n",
    "    batch_size: 512\n",
    "    n_steps: 512\n",
    "    gamma: 0.995\n",
    "    learning_rate: 0.002329979850837935\n",
    "    ent_coef: 5.8023434723420085e-08\n",
    "    clip_range: 0.2\n",
    "    n_epochs: 20\n",
    "    gae_lambda: 0.92\n",
    "    max_grad_norm: 0.7\n",
    "    vf_coef: 0.31249609222453667\n",
    "```"
   ],
   "id": "d4075f0f96c694e1"
  },
  {
   "metadata": {},
   "cell_type": "markdown",
   "source": [
    "# 1ste training\n",
    "`python train.py --verbose 1 --tensorboard-log tensorboard_log --algo ppo --env snake-v1 --env-kwargs \"grid_size:[6, 6]\" --n-timesteps 1000000`\n",
    "resulaat niet goed, ging in een cirkel\n",
    "\n",
    "![Train 1](train1.gif)"
   ],
   "id": "d2a8d16847d2dbc5"
  },
  {
   "metadata": {},
   "cell_type": "markdown",
   "source": [
    "# 2de training\n",
    "`python train.py --verbose 1 --tensorboard-log tensorboard_log --algo ppo --env snake-v1 --env-kwargs \"grid_size:[6, 6]\" --n-timesteps 5000000`\n",
    "maar onderbroken\n",
    "resultaat veel beter, maar later ging hij weer in een cirkel\n",
    "\n",
    "# 3de training\n",
    "niet onderbroken, de reward mean score ging nog omhoog.\n",
    "resultaat ongeveer dezelfde\n",
    "\n",
    "![Train 2](train2en3.gif)"
   ],
   "id": "f569f26085bf8113"
  },
  {
   "metadata": {},
   "cell_type": "markdown",
   "source": [
    "# Rewards verandert naar\n",
    "``` if self.is_off_grid(snake.head) or self.is_snake_square_except_own_head(snake):\n",
    "        snake.is_alive = False\n",
    "        reward = -100 (was -1)\n",
    "    # check for food\n",
    "    elif self.is_food_square(snake.head):\n",
    "        self.foods.remove(snake.head)  # all food coords are unique\n",
    "        self.place_new_food()\n",
    "        reward = 20 (was 1)\n",
    "    # ordinary step\n",
    "    else:\n",
    "        snake.remove_tail_end()\n",
    "        reward = -1 (was 0)\n",
    "```\n",
    "\n",
    "Goed resultaat alleen soms gaat hij in zichzelf om de appel te bereiken\n",
    "\n",
    "![Train 4](train4.gif)"
   ],
   "id": "c18efe133e311ced"
  },
  {
   "metadata": {},
   "cell_type": "markdown",
   "source": "# Staged learning\n",
   "id": "8fb2d561e25b74b0"
  }
 ],
 "metadata": {
  "kernelspec": {
   "display_name": "Python 3",
   "language": "python",
   "name": "python3"
  },
  "language_info": {
   "codemirror_mode": {
    "name": "ipython",
    "version": 2
   },
   "file_extension": ".py",
   "mimetype": "text/x-python",
   "name": "python",
   "nbconvert_exporter": "python",
   "pygments_lexer": "ipython2",
   "version": "2.7.6"
  }
 },
 "nbformat": 4,
 "nbformat_minor": 5
}
