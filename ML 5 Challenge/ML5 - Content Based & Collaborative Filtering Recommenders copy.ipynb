{
 "cells": [
  {
   "cell_type": "markdown",
   "metadata": {},
   "source": [
    "# Recommender systems\n",
    "\n",
    "## Introduction\n",
    "\n",
    "Recommender systems are among the most popular applications of data science today. They are used to predict the \"rating\" or \"preference\" that a user would give to an item. Almost every major tech company has applied them in some form. Amazon uses it to suggest products to customers, YouTube uses it to decide which video to play next on autoplay, and Facebook uses it to recommend pages to like and people to follow.\n",
    "\n",
    "What's more, for some companies like Netflix, Amazon Prime, Hulu, and Hotstar, the business model and its success revolves around the potency of their recommendations. Netflix even offered a million dollars in 2009 to anyone who could improve its system by 10%.\n",
    "\n",
    "There are also popular recommender systems for domains like restaurants, courses, and online dating. Recommender systems have also been developed to explore research articles and experts, collaborators, and financial services. YouTube uses the recommendation system at a large scale to suggest you videos based on your history. For example, if you watch a lot of educational videos, it would suggest those types of videos.\n",
    "\n"
   ]
  },
  {
   "cell_type": "markdown",
   "metadata": {},
   "source": [
    "Some really good read covering what we do in this class and even beyond ...\n",
    "- [Recommender | Recommender Systems | Overview of systems](https://towardsdatascience.com/the-4-recommendation-engines-that-can-predict-your-course-tastes-109dc4e10c52) (19 min.) nicely explained with some code snippets.\n",
    "\n",
    "Please watch the following videos (~60 min.): \n",
    "- [Recommender | Recommender Systems | Introduction](https://youtu.be/giIXNoiqO_U) (8 min.)Problem formulation\n",
    "- [Recommender | Intro to Recommender Systems](https://youtu.be/gxXn9LDAdcU) (4 min.)\n",
    "- [Recommender | Types of Recommender Systems](https://youtu.be/QRzfpJa3iJk) (3 min.)\n",
    "- [Recommender | Content Based](https://youtu.be/IlqnNWuqToo) (21 min.) A bit long but solid foundations.\n",
    "- [Recommender | Collaborative Filtering](https://youtu.be/3Sl_nFQbLQA) (21 min.).\n",
    "- Alternatively, Go to Coursera and enroll on 'intro to recommender system'- it is **free when you select the 'audit course' option** and go to week3 'Content-Based Filtering Using TFIDF' [Recommender | Content-Based Filtering Using TFIDF](https://www.coursera.org/learn/recommender-systems-introduction/home/week/3) (3 x videos app.60 min.)"
   ]
  },
  {
   "cell_type": "markdown",
   "metadata": {},
   "source": [
    "## But what are these recommender systems?\n",
    "\n",
    "Broadly, recommender systems can be classified into 3 types:\n",
    "\n",
    "- **Simple recommenders**: offer generalized recommendations to every user, based on course popularity and/or genre. The basic idea behind this system is that courses that are more popular and critically acclaimed will have a higher probability of being liked by the average audience. An example could be IMDB Top 250.\n",
    "- **Content-based recommenders**: suggest similar items based on a particular item. This system uses item metadata, such as genre, director, description, actors, etc. for courses, to make these recommendations. The general idea behind these recommender systems is that if a person likes a particular item, he or she will also like an item that is similar to it. And to recommend that, it will make use of the user's past item metadata. A good example could be YouTube, where based on your history, it suggests you new videos that you could potentially watch.\n",
    "- **Collaborative filtering engines**: these systems are widely used, and they try to predict the rating or preference that a user would give an item-based on past ratings and preferences of other users. Collaborative filters do not require item metadata like its content-based counterparts.±"
   ]
  },
  {
   "cell_type": "markdown",
   "metadata": {},
   "source": [
    "#  1- Content Based Recommender \n",
    "\n",
    "\n",
    "In this tutorial, you will learn how to build a basic model of content-based recommender systems. While this model will be nowhere close to the industry standard in terms of complexity, quality, or accuracy, it will help you to get started with building more complex models that produce even better results.\n",
    "\n",
    "Lets get started : Go the following link to download the dataset : \n",
    "https://www.kaggle.com/rounakbanik/the-courses-dataset"
   ]
  },
  {
   "cell_type": "markdown",
   "metadata": {},
   "source": [
    "## The dataset : IMDB 250 Recommender systems\n",
    "courses_metadata.csv: this file contains information on ~45,000 courses featured in the Full courseLens dataset. Features include posters, backdrops, budget, genre, revenue, release dates, languages, production countries, and companies.\n",
    "Go the following link to download the dataset : \n",
    "https://www.kaggle.com/rounakbanik/the-courses-dataset"
   ]
  },
  {
   "cell_type": "markdown",
   "metadata": {},
   "source": [
    "## Preparing the Data"
   ]
  },
  {
   "cell_type": "code",
   "execution_count": 8,
   "metadata": {},
   "outputs": [
    {
     "data": {
      "text/html": [
       "<div>\n",
       "<style scoped>\n",
       "    .dataframe tbody tr th:only-of-type {\n",
       "        vertical-align: middle;\n",
       "    }\n",
       "\n",
       "    .dataframe tbody tr th {\n",
       "        vertical-align: top;\n",
       "    }\n",
       "\n",
       "    .dataframe thead th {\n",
       "        text-align: right;\n",
       "    }\n",
       "</style>\n",
       "<table border=\"1\" class=\"dataframe\">\n",
       "  <thead>\n",
       "    <tr style=\"text-align: right;\">\n",
       "      <th></th>\n",
       "      <th>ID</th>\n",
       "      <th>Title</th>\n",
       "      <th>Description</th>\n",
       "      <th>Objectives</th>\n",
       "      <th>Solutions</th>\n",
       "      <th>Duration</th>\n",
       "    </tr>\n",
       "  </thead>\n",
       "  <tbody>\n",
       "    <tr>\n",
       "      <th>0</th>\n",
       "      <td>d.4</td>\n",
       "      <td>Emotional Intelligence</td>\n",
       "      <td>&lt;p&gt;Emotional intelligence is the skill at perc...</td>\n",
       "      <td>&lt;p&gt;Here are the topics you will learn about by...</td>\n",
       "      <td>NaN</td>\n",
       "      <td>&lt;p&gt;2 hour 35 minutes&lt;/p&gt;</td>\n",
       "    </tr>\n",
       "    <tr>\n",
       "      <th>1</th>\n",
       "      <td>d.5</td>\n",
       "      <td>Stress Management &amp; Balance</td>\n",
       "      <td>&lt;p&gt;This is a self-learning program for learnin...</td>\n",
       "      <td>&lt;p&gt;At the end of this track you will be able t...</td>\n",
       "      <td>NaN</td>\n",
       "      <td>&lt;p&gt;48 minutes.&lt;/p&gt;</td>\n",
       "    </tr>\n",
       "    <tr>\n",
       "      <th>2</th>\n",
       "      <td>d.6</td>\n",
       "      <td>Time Management &amp; Productivity</td>\n",
       "      <td>&lt;p&gt;You'll learn strategies to better mangage y...</td>\n",
       "      <td>&lt;p&gt;At the end of this, you will be able to:&lt;/p...</td>\n",
       "      <td>NaN</td>\n",
       "      <td>&lt;p&gt;1 hour, 36 minutes&lt;/p&gt;</td>\n",
       "    </tr>\n",
       "    <tr>\n",
       "      <th>3</th>\n",
       "      <td>d.7</td>\n",
       "      <td>Public Speaking</td>\n",
       "      <td>&lt;p&gt;In today’s business world, most of us need ...</td>\n",
       "      <td>&lt;p&gt;After studying the Public Speaking, you wil...</td>\n",
       "      <td>NaN</td>\n",
       "      <td>&lt;p&gt;4 hours, 30 min&lt;/p&gt;</td>\n",
       "    </tr>\n",
       "    <tr>\n",
       "      <th>4</th>\n",
       "      <td>d.8</td>\n",
       "      <td>Virtual Team Communication</td>\n",
       "      <td>&lt;p&gt;&lt;span style=\"color: rgb(78, 78, 78);\"&gt;This ...</td>\n",
       "      <td>&lt;p&gt;Here are the topics you will learn about by...</td>\n",
       "      <td>NaN</td>\n",
       "      <td>&lt;p&gt;Maximum 5 hours.&lt;/p&gt;</td>\n",
       "    </tr>\n",
       "  </tbody>\n",
       "</table>\n",
       "</div>"
      ],
      "text/plain": [
       "    ID                           Title  \\\n",
       "0  d.4          Emotional Intelligence   \n",
       "1  d.5     Stress Management & Balance   \n",
       "2  d.6  Time Management & Productivity   \n",
       "3  d.7                 Public Speaking   \n",
       "4  d.8      Virtual Team Communication   \n",
       "\n",
       "                                         Description  \\\n",
       "0  <p>Emotional intelligence is the skill at perc...   \n",
       "1  <p>This is a self-learning program for learnin...   \n",
       "2  <p>You'll learn strategies to better mangage y...   \n",
       "3  <p>In today’s business world, most of us need ...   \n",
       "4  <p><span style=\"color: rgb(78, 78, 78);\">This ...   \n",
       "\n",
       "                                          Objectives Solutions  \\\n",
       "0  <p>Here are the topics you will learn about by...       NaN   \n",
       "1  <p>At the end of this track you will be able t...       NaN   \n",
       "2  <p>At the end of this, you will be able to:</p...       NaN   \n",
       "3  <p>After studying the Public Speaking, you wil...       NaN   \n",
       "4  <p>Here are the topics you will learn about by...       NaN   \n",
       "\n",
       "                    Duration  \n",
       "0   <p>2 hour 35 minutes</p>  \n",
       "1         <p>48 minutes.</p>  \n",
       "2  <p>1 hour, 36 minutes</p>  \n",
       "3     <p>4 hours, 30 min</p>  \n",
       "4    <p>Maximum 5 hours.</p>  "
      ]
     },
     "execution_count": 8,
     "metadata": {},
     "output_type": "execute_result"
    }
   ],
   "source": [
    "import pandas as pd\n",
    "import numpy as np\n",
    "from bs4 import BeautifulSoup\n",
    "\n",
    "df = pd.read_csv('course_061120.csv')\n",
    "df.head()"
   ]
  },
  {
   "cell_type": "code",
   "execution_count": 9,
   "metadata": {},
   "outputs": [
    {
     "data": {
      "text/plain": [
       "(6204, 6)"
      ]
     },
     "execution_count": 9,
     "metadata": {},
     "output_type": "execute_result"
    }
   ],
   "source": [
    "df.shape"
   ]
  },
  {
   "cell_type": "markdown",
   "metadata": {},
   "source": [
    "We can see that we have data on 45,466 courses.\n",
    "\n",
    "We also see that we have 24 columns. Each column represents a feature or a piece of metadata about the course. When we ran df.head(), we saw that most of the columns were truncated to fit in the display. To view all the columns (henceforth, called features) we have, we can run the following:"
   ]
  },
  {
   "cell_type": "code",
   "execution_count": 10,
   "metadata": {},
   "outputs": [
    {
     "data": {
      "text/plain": [
       "Index(['ID', 'Title', 'Description', 'Objectives', 'Solutions', 'Duration'], dtype='object')"
      ]
     },
     "execution_count": 10,
     "metadata": {},
     "output_type": "execute_result"
    }
   ],
   "source": [
    "#Output the columns of df\n",
    "df.columns"
   ]
  },
  {
   "cell_type": "markdown",
   "metadata": {},
   "source": [
    "From our output, it is quite clear which features we do and do not require. Now, let's reduce our DataFrame to only contain features that we need for our model:"
   ]
  },
  {
   "cell_type": "code",
   "execution_count": 11,
   "metadata": {},
   "outputs": [
    {
     "data": {
      "text/html": [
       "<div>\n",
       "<style scoped>\n",
       "    .dataframe tbody tr th:only-of-type {\n",
       "        vertical-align: middle;\n",
       "    }\n",
       "\n",
       "    .dataframe tbody tr th {\n",
       "        vertical-align: top;\n",
       "    }\n",
       "\n",
       "    .dataframe thead th {\n",
       "        text-align: right;\n",
       "    }\n",
       "</style>\n",
       "<table border=\"1\" class=\"dataframe\">\n",
       "  <thead>\n",
       "    <tr style=\"text-align: right;\">\n",
       "      <th></th>\n",
       "      <th>Title</th>\n",
       "      <th>Description</th>\n",
       "      <th>Objectives</th>\n",
       "      <th>Duration</th>\n",
       "    </tr>\n",
       "  </thead>\n",
       "  <tbody>\n",
       "    <tr>\n",
       "      <th>0</th>\n",
       "      <td>Emotional Intelligence</td>\n",
       "      <td>&lt;p&gt;Emotional intelligence is the skill at perc...</td>\n",
       "      <td>&lt;p&gt;Here are the topics you will learn about by...</td>\n",
       "      <td>&lt;p&gt;2 hour 35 minutes&lt;/p&gt;</td>\n",
       "    </tr>\n",
       "    <tr>\n",
       "      <th>1</th>\n",
       "      <td>Stress Management &amp; Balance</td>\n",
       "      <td>&lt;p&gt;This is a self-learning program for learnin...</td>\n",
       "      <td>&lt;p&gt;At the end of this track you will be able t...</td>\n",
       "      <td>&lt;p&gt;48 minutes.&lt;/p&gt;</td>\n",
       "    </tr>\n",
       "    <tr>\n",
       "      <th>2</th>\n",
       "      <td>Time Management &amp; Productivity</td>\n",
       "      <td>&lt;p&gt;You'll learn strategies to better mangage y...</td>\n",
       "      <td>&lt;p&gt;At the end of this, you will be able to:&lt;/p...</td>\n",
       "      <td>&lt;p&gt;1 hour, 36 minutes&lt;/p&gt;</td>\n",
       "    </tr>\n",
       "    <tr>\n",
       "      <th>3</th>\n",
       "      <td>Public Speaking</td>\n",
       "      <td>&lt;p&gt;In today’s business world, most of us need ...</td>\n",
       "      <td>&lt;p&gt;After studying the Public Speaking, you wil...</td>\n",
       "      <td>&lt;p&gt;4 hours, 30 min&lt;/p&gt;</td>\n",
       "    </tr>\n",
       "    <tr>\n",
       "      <th>4</th>\n",
       "      <td>Virtual Team Communication</td>\n",
       "      <td>&lt;p&gt;&lt;span style=\"color: rgb(78, 78, 78);\"&gt;This ...</td>\n",
       "      <td>&lt;p&gt;Here are the topics you will learn about by...</td>\n",
       "      <td>&lt;p&gt;Maximum 5 hours.&lt;/p&gt;</td>\n",
       "    </tr>\n",
       "  </tbody>\n",
       "</table>\n",
       "</div>"
      ],
      "text/plain": [
       "                            Title  \\\n",
       "0          Emotional Intelligence   \n",
       "1     Stress Management & Balance   \n",
       "2  Time Management & Productivity   \n",
       "3                 Public Speaking   \n",
       "4      Virtual Team Communication   \n",
       "\n",
       "                                         Description  \\\n",
       "0  <p>Emotional intelligence is the skill at perc...   \n",
       "1  <p>This is a self-learning program for learnin...   \n",
       "2  <p>You'll learn strategies to better mangage y...   \n",
       "3  <p>In today’s business world, most of us need ...   \n",
       "4  <p><span style=\"color: rgb(78, 78, 78);\">This ...   \n",
       "\n",
       "                                          Objectives  \\\n",
       "0  <p>Here are the topics you will learn about by...   \n",
       "1  <p>At the end of this track you will be able t...   \n",
       "2  <p>At the end of this, you will be able to:</p...   \n",
       "3  <p>After studying the Public Speaking, you wil...   \n",
       "4  <p>Here are the topics you will learn about by...   \n",
       "\n",
       "                    Duration  \n",
       "0   <p>2 hour 35 minutes</p>  \n",
       "1         <p>48 minutes.</p>  \n",
       "2  <p>1 hour, 36 minutes</p>  \n",
       "3     <p>4 hours, 30 min</p>  \n",
       "4    <p>Maximum 5 hours.</p>  "
      ]
     },
     "execution_count": 11,
     "metadata": {},
     "output_type": "execute_result"
    }
   ],
   "source": [
    "#Only keep those features that we require \n",
    "df = df[['Title','Description', 'Objectives', 'Duration']]\n",
    "\n",
    "df.head()"
   ]
  },
  {
   "cell_type": "code",
   "execution_count": 12,
   "metadata": {},
   "outputs": [
    {
     "name": "stderr",
     "output_type": "stream",
     "text": [
      "c:\\Users\\Ruben Claassen\\.conda\\envs\\tf2\\lib\\site-packages\\bs4\\__init__.py:435: MarkupResemblesLocatorWarning: The input looks more like a filename than markup. You may want to open this file and pass the filehandle into Beautiful Soup.\n",
      "  warnings.warn(\n"
     ]
    }
   ],
   "source": [
    "def remove_html_tags(text):\n",
    "    if pd.isna(text):\n",
    "        return text\n",
    "    return BeautifulSoup(text, \"html.parser\").get_text()\n",
    "\n",
    "df['Title'] = df['Title'].apply(remove_html_tags)\n",
    "df['Description'] = df['Description'].apply(remove_html_tags)\n",
    "df['Objectives'] = df['Objectives'].apply(remove_html_tags)\n",
    "\n"
   ]
  },
  {
   "cell_type": "markdown",
   "metadata": {},
   "source": [
    "Next, let us extract the year of release from our release_date feature:"
   ]
  },
  {
   "cell_type": "markdown",
   "metadata": {},
   "source": [
    "Our year feature is still an object and is riddled with NaT values, which are a type of null value used by Pandas. Let's convert these values to an integer, 0, and convert the datatype of the year feature into int.\n",
    "\n",
    "To do this, we will define a helper function, convert_int, and apply it to the year feature:"
   ]
  },
  {
   "cell_type": "markdown",
   "metadata": {},
   "source": [
    "We do not require the release_date feature anymore. So let's go ahead and remove it:"
   ]
  },
  {
   "cell_type": "markdown",
   "metadata": {},
   "source": [
    "The runtime feature is already in a form that is usable. It doesn't require any additional wrangling. Let us now turn our attention to genres."
   ]
  },
  {
   "cell_type": "markdown",
   "metadata": {},
   "source": [
    "We can observe that the genres are in a format that looks like a JSON object (or a Python dictionary). Let us take a look at the genres object of one of our courses:"
   ]
  },
  {
   "cell_type": "code",
   "execution_count": 13,
   "metadata": {},
   "outputs": [
    {
     "data": {
      "text/html": [
       "<div>\n",
       "<style scoped>\n",
       "    .dataframe tbody tr th:only-of-type {\n",
       "        vertical-align: middle;\n",
       "    }\n",
       "\n",
       "    .dataframe tbody tr th {\n",
       "        vertical-align: top;\n",
       "    }\n",
       "\n",
       "    .dataframe thead th {\n",
       "        text-align: right;\n",
       "    }\n",
       "</style>\n",
       "<table border=\"1\" class=\"dataframe\">\n",
       "  <thead>\n",
       "    <tr style=\"text-align: right;\">\n",
       "      <th></th>\n",
       "      <th>Title</th>\n",
       "      <th>Description</th>\n",
       "      <th>Objectives</th>\n",
       "      <th>Duration</th>\n",
       "    </tr>\n",
       "  </thead>\n",
       "  <tbody>\n",
       "    <tr>\n",
       "      <th>0</th>\n",
       "      <td>Emotional Intelligence</td>\n",
       "      <td>Emotional intelligence is the skill at perceiv...</td>\n",
       "      <td>Here are the topics you will learn about by ta...</td>\n",
       "      <td>&lt;p&gt;2 hour 35 minutes&lt;/p&gt;</td>\n",
       "    </tr>\n",
       "    <tr>\n",
       "      <th>1</th>\n",
       "      <td>Stress Management &amp; Balance</td>\n",
       "      <td>This is a self-learning program for learning s...</td>\n",
       "      <td>At the end of this track you will be able to:I...</td>\n",
       "      <td>&lt;p&gt;48 minutes.&lt;/p&gt;</td>\n",
       "    </tr>\n",
       "    <tr>\n",
       "      <th>2</th>\n",
       "      <td>Time Management &amp; Productivity</td>\n",
       "      <td>You'll learn strategies to better mangage your...</td>\n",
       "      <td>At the end of this, you will be able to:use bo...</td>\n",
       "      <td>&lt;p&gt;1 hour, 36 minutes&lt;/p&gt;</td>\n",
       "    </tr>\n",
       "    <tr>\n",
       "      <th>3</th>\n",
       "      <td>Public Speaking</td>\n",
       "      <td>In today’s business world, most of us need to ...</td>\n",
       "      <td>After studying the Public Speaking, you will:K...</td>\n",
       "      <td>&lt;p&gt;4 hours, 30 min&lt;/p&gt;</td>\n",
       "    </tr>\n",
       "    <tr>\n",
       "      <th>4</th>\n",
       "      <td>Virtual Team Communication</td>\n",
       "      <td>This curriculum addresses the challenges of wo...</td>\n",
       "      <td>Here are the topics you will learn about by ta...</td>\n",
       "      <td>&lt;p&gt;Maximum 5 hours.&lt;/p&gt;</td>\n",
       "    </tr>\n",
       "    <tr>\n",
       "      <th>5</th>\n",
       "      <td>Interpersonal Communication</td>\n",
       "      <td>Good interpersonal communication skills help y...</td>\n",
       "      <td>Here are the topics you will learn about by ta...</td>\n",
       "      <td>&lt;p&gt;Maximum 4 hours.&lt;/p&gt;</td>\n",
       "    </tr>\n",
       "    <tr>\n",
       "      <th>6</th>\n",
       "      <td>Cross Cultural Awareness and Communication</td>\n",
       "      <td>It is a field of study that looks at how peopl...</td>\n",
       "      <td>Here are the topics you will learn about by ta...</td>\n",
       "      <td>&lt;p&gt;Maximum 4 hours&lt;/p&gt;</td>\n",
       "    </tr>\n",
       "    <tr>\n",
       "      <th>7</th>\n",
       "      <td>Software Engineering</td>\n",
       "      <td>The Software Engineering Community is a self-l...</td>\n",
       "      <td>Taking this learning program will allow you to...</td>\n",
       "      <td>&lt;p&gt;33:54 hours&lt;/p&gt;</td>\n",
       "    </tr>\n",
       "    <tr>\n",
       "      <th>8</th>\n",
       "      <td>Problem Solving and Decision Making Fundamentals</td>\n",
       "      <td>In this community you will start by reviewing ...</td>\n",
       "      <td>These are the topics you will learn about by t...</td>\n",
       "      <td>&lt;p&gt;3 hour 52 minutes&lt;/p&gt;</td>\n",
       "    </tr>\n",
       "    <tr>\n",
       "      <th>9</th>\n",
       "      <td>Web Programming</td>\n",
       "      <td>The Web Programming Community is a self-learni...</td>\n",
       "      <td>Discover and learn how to develop web applicat...</td>\n",
       "      <td>Up to 17 hours, depending on your level of exp...</td>\n",
       "    </tr>\n",
       "  </tbody>\n",
       "</table>\n",
       "</div>"
      ],
      "text/plain": [
       "                                              Title  \\\n",
       "0                            Emotional Intelligence   \n",
       "1                       Stress Management & Balance   \n",
       "2                    Time Management & Productivity   \n",
       "3                                   Public Speaking   \n",
       "4                        Virtual Team Communication   \n",
       "5                       Interpersonal Communication   \n",
       "6        Cross Cultural Awareness and Communication   \n",
       "7                              Software Engineering   \n",
       "8  Problem Solving and Decision Making Fundamentals   \n",
       "9                                   Web Programming   \n",
       "\n",
       "                                         Description  \\\n",
       "0  Emotional intelligence is the skill at perceiv...   \n",
       "1  This is a self-learning program for learning s...   \n",
       "2  You'll learn strategies to better mangage your...   \n",
       "3  In today’s business world, most of us need to ...   \n",
       "4  This curriculum addresses the challenges of wo...   \n",
       "5  Good interpersonal communication skills help y...   \n",
       "6  It is a field of study that looks at how peopl...   \n",
       "7  The Software Engineering Community is a self-l...   \n",
       "8  In this community you will start by reviewing ...   \n",
       "9  The Web Programming Community is a self-learni...   \n",
       "\n",
       "                                          Objectives  \\\n",
       "0  Here are the topics you will learn about by ta...   \n",
       "1  At the end of this track you will be able to:I...   \n",
       "2  At the end of this, you will be able to:use bo...   \n",
       "3  After studying the Public Speaking, you will:K...   \n",
       "4  Here are the topics you will learn about by ta...   \n",
       "5  Here are the topics you will learn about by ta...   \n",
       "6  Here are the topics you will learn about by ta...   \n",
       "7  Taking this learning program will allow you to...   \n",
       "8  These are the topics you will learn about by t...   \n",
       "9  Discover and learn how to develop web applicat...   \n",
       "\n",
       "                                            Duration  \n",
       "0                           <p>2 hour 35 minutes</p>  \n",
       "1                                 <p>48 minutes.</p>  \n",
       "2                          <p>1 hour, 36 minutes</p>  \n",
       "3                             <p>4 hours, 30 min</p>  \n",
       "4                            <p>Maximum 5 hours.</p>  \n",
       "5                            <p>Maximum 4 hours.</p>  \n",
       "6                             <p>Maximum 4 hours</p>  \n",
       "7                                 <p>33:54 hours</p>  \n",
       "8                           <p>3 hour 52 minutes</p>  \n",
       "9  Up to 17 hours, depending on your level of exp...  "
      ]
     },
     "execution_count": 13,
     "metadata": {},
     "output_type": "execute_result"
    }
   ],
   "source": [
    "#Print the head of the cleaned DataFrame\n",
    "df.head(10)"
   ]
  },
  {
   "cell_type": "markdown",
   "metadata": {},
   "source": [
    "##  Implementing the Content based recommender\n",
    "\n",
    "In this section, you will learn how to build a system that recommends courses that are similar to a particular course.\n",
    "\n",
    "Essentially, the models we are building compute the pairwise similarity between bodies of text. In our case we will use the course description and objectives to calculate the similarity between two courses and recommend courses based on that similarity score.\n",
    "\n",
    "The challenge is that overview is text. Hence you need to extract some kind of features from the text data before you can compute the similarity and/or dissimilarity between them. This is done by representing each course as mathematical word vectors.\n",
    "\n",
    "But what are the values of these vectors? The answer to that question depends on the vectorizer we are using to convert our documents into vectors. The two most popular vectorizers are CountVectorizer and TF-IDFVectorizer. We will be using TF-IDFVectorizer because some wordsoccur much more frequently in overview than others. It is therefore a good idea to assign weights to each word in a document according to the TF-IDF formula. **tfidf=term frequency/document frequency**\n",
    "\n",
    "TF-IDF is used to searching and prioritizing important words in a document. Any word gets scored by tf-idf. Higher scores indicates core terms. In its essence, the TF-IDF score is the frequency of a word occurring in a document, down-weighted by the number of documents in which it occurs. This is done to reduce the importance of words that frequently occur in plot overviews and, therefore, their significance in computing the final similarity score.\n",
    "\n",
    "Scikit-learn gives you a built-in TfIdfVectorizer class that produces the TF-IDF matrix in a couple of lines.\n",
    "- Import the Tfidf module using scikit-learn;\n",
    "- Remove stop words like 'the', 'an', etc. since they do not give any useful information about the topic;\n",
    "- Replace not-a-number values with a blank string;\n",
    "- Finally, construct the TF-IDF matrix on the data.\n",
    "\n",
    "Additionnaly you can watch this video on tfidf: https://youtu.be/6HuKFh0BatQ\n"
   ]
  },
  {
   "cell_type": "code",
   "execution_count": 14,
   "metadata": {},
   "outputs": [
    {
     "data": {
      "text/plain": [
       "(6204, 20641)"
      ]
     },
     "execution_count": 14,
     "metadata": {},
     "output_type": "execute_result"
    }
   ],
   "source": [
    "#Import TfIdfVectorizer from the scikit-learn library\n",
    "from sklearn.feature_extraction.text import TfidfVectorizer\n",
    "\n",
    "#Define a TF-IDF Vectorizer Object. Remove all english stopwords\n",
    "tfidf = TfidfVectorizer(stop_words='english')\n",
    "\n",
    "#Replace NaN with an empty string\n",
    "df['Description'] = df['Description'].fillna('')\n",
    "\n",
    "#Replace NaN with an empty string\n",
    "df['Objectives'] = df['Objectives'].fillna('')\n",
    "\n",
    "df['text'] = df['Description'] + ' ' + df['Objectives']\n",
    "\n",
    "#Construct the required TF-IDF matrix by applying the fit_transform method on the Description feature\n",
    "tfidf_matrix = tfidf.fit_transform(df['text'])\n",
    "\n",
    "\n",
    "#Output the shape of tfidf_matrix\n",
    "tfidf_matrix.shape"
   ]
  },
  {
   "cell_type": "markdown",
   "metadata": {},
   "source": [
    "We see that the vectorizer has created a 75,827-dimensional vector for the Descriptoin of every course. \n",
    "tdidf_matrix is a matrix, where each row represents a course and each column represents a token (word) \n",
    "It’s a sparse numpy array because it’s essentially a matrix of zeros, with a handful of \n",
    "nonzero elements per row. The sparse matrix format is more efficient storage wise\n",
    "\n"
   ]
  },
  {
   "cell_type": "markdown",
   "metadata": {},
   "source": [
    "Every course is now represented through a TD-IDF keyword vector. \n",
    "\n",
    "The next step is to calculate the pairwise **cosine similarity score** of every course. In other words, we are going to create a 45,466 × 45,466 matrix, where the cell in the ith row and jth column represents the similarity score between courses i and j. We can easily see that this matrix is symmetric in nature and every element in the diagonal is 1, since it is the similarity score of the course with itself.\n",
    "\n",
    "You will be using the cosine similarity to calculate a numeric quantity that denotes the similarity between two courses. You use the cosine similarity score since it is independent of magnitude and is relatively easy and fast to calculate (especially when used in conjunction with TF-IDF scores). The lower the cosine distance, the closer the courses are.\n",
    "\n",
    "Notice : the following command could take some time to complete ... \n",
    "\n",
    "\n",
    "\n"
   ]
  },
  {
   "cell_type": "code",
   "execution_count": 15,
   "metadata": {},
   "outputs": [],
   "source": [
    "# Import linear_kernel to compute the dot product\n",
    "from sklearn.metrics.pairwise import linear_kernel\n",
    "\n",
    "# Compute the cosine similarity matrix\n",
    "cosine_sim = linear_kernel(tfidf_matrix, tfidf_matrix)"
   ]
  },
  {
   "cell_type": "code",
   "execution_count": 16,
   "metadata": {},
   "outputs": [
    {
     "data": {
      "text/plain": [
       "(6204, 6204)"
      ]
     },
     "execution_count": 16,
     "metadata": {},
     "output_type": "execute_result"
    }
   ],
   "source": [
    "cosine_sim.shape"
   ]
  },
  {
   "cell_type": "code",
   "execution_count": 17,
   "metadata": {},
   "outputs": [
    {
     "data": {
      "text/plain": [
       "array([0.04074644, 1.        , 0.12493763, ..., 0.01987448, 0.        ,\n",
       "       0.        ])"
      ]
     },
     "execution_count": 17,
     "metadata": {},
     "output_type": "execute_result"
    }
   ],
   "source": [
    "cosine_sim[1]"
   ]
  },
  {
   "cell_type": "markdown",
   "metadata": {},
   "source": [
    "With the similarity scores of every course with every other course, we are now in a very good position to write our final recommender function.\n",
    "Let's create a reverse mapping of course titles and their respective indices. In other words, let's create a pandas series with the index as the course title and the value as the corresponding index in the main DataFrame.\n",
    "In other words, you need a mechanism to identify the index of a course in your metadata DataFrame, given its title."
   ]
  },
  {
   "cell_type": "code",
   "execution_count": 18,
   "metadata": {},
   "outputs": [],
   "source": [
    "#Construct a reverse mapping of indices and course titles, and drop duplicate titles, if any\n",
    "indices = pd.Series(df.index, index=df['Title']).reset_index().drop_duplicates(subset='Title').set_index('Title')[0]\n"
   ]
  },
  {
   "cell_type": "code",
   "execution_count": 19,
   "metadata": {},
   "outputs": [
    {
     "name": "stdout",
     "output_type": "stream",
     "text": [
      "0\n"
     ]
    }
   ],
   "source": [
    "indices[:10]\n",
    "\n",
    "print(indices['Emotional Intelligence'])"
   ]
  },
  {
   "cell_type": "markdown",
   "metadata": {},
   "source": [
    "We will perform the following steps in building the recommender function:\n",
    "\n",
    "- Declare the title of the course as an argument.\n",
    "- Obtain the index of the course from the indices reverse mapping.\n",
    "- Get the list of cosine similarity scores for that particular course with all courses using cosine_sim. Convert this into a list of tuples where the first element is the position and the second is the similarity score.\n",
    "- Sort this list of tuples on the basis of the cosine similarity scores.\n",
    "- Get the top 10 elements of this list. Ignore the first element as it refers to the similarity score with itself (the course most similar to a particular course is obviously the course itself).\n",
    "- Return the titles corresponding to the indices of the top 10 elements, excluding the first:"
   ]
  },
  {
   "cell_type": "code",
   "execution_count": 20,
   "metadata": {},
   "outputs": [],
   "source": [
    "# Function that takes in course title as input and gives recommendations \n",
    "def content_recommender(title, cosine_sim=cosine_sim, df=df, indices=indices):\n",
    "    # Obtain the index of the course that matches the title\n",
    "    idx = indices[title]\n",
    "\n",
    "    # Get the pairwsie similarity scores of all courses with that course\n",
    "    # And convert it into a list of tuples as described above\n",
    "    sim_scores = list(enumerate(cosine_sim[idx]))\n",
    "\n",
    "    # Sort the courses based on the cosine similarity scores\n",
    "    sim_scores = sorted(sim_scores, key=lambda x: x[1], reverse=True)\n",
    "\n",
    "    # Get the scores of the 10 most similar courses. Ignore the first course.\n",
    "    sim_scores = sim_scores[1:11]\n",
    "\n",
    "    # Get the course indices\n",
    "    course_indices = [i[0] for i in sim_scores]\n",
    "\n",
    "    # Return the top 10 most similar courses\n",
    "    return df['Title'].iloc[course_indices]"
   ]
  },
  {
   "cell_type": "markdown",
   "metadata": {},
   "source": [
    "**Congratulations!** You've built your very first content-based recommender. Now it is time to see our recommender in action! Let's ask it for recommendations of courses similar to Emotional Intelligence:\n",
    "\n"
   ]
  },
  {
   "cell_type": "code",
   "execution_count": null,
   "metadata": {},
   "outputs": [
    {
     "data": {
      "text/plain": [
       "4656                         Navigating Your Own Emotions\n",
       "1516    Emotional Intelligence: Being Aware of the Emo...\n",
       "4657                   Navigating Other People's Emotions\n",
       "1517    Emotional Intelligence: Building Self-Manageme...\n",
       "4661          Emotional Intelligence: Applying EI at Work\n",
       "4893     Learn - Emotional Intelligence / Motivate others\n",
       "4213                    Leveraging Emotional Intelligence\n",
       "4659                  Leading with Emotional Intelligence\n",
       "4655               Developing Your Emotional Intelligence\n",
       "3360    Emotional Intelligence talk with Niklas Nordli...\n",
       "Name: Title, dtype: object"
      ]
     },
     "execution_count": 21,
     "metadata": {},
     "output_type": "execute_result"
    }
   ],
   "source": [
    "#Get recommendations for The Lion King\n",
    "content_recommender('Emotional Intelligence')"
   ]
  }
 ],
 "metadata": {
  "kernelspec": {
   "display_name": "tf2",
   "language": "python",
   "name": "python3"
  },
  "language_info": {
   "codemirror_mode": {
    "name": "ipython",
    "version": 3
   },
   "file_extension": ".py",
   "mimetype": "text/x-python",
   "name": "python",
   "nbconvert_exporter": "python",
   "pygments_lexer": "ipython3",
   "version": "3.9.13"
  }
 },
 "nbformat": 4,
 "nbformat_minor": 2
}
